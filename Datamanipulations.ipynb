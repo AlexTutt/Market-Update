{
 "cells": [
  {
   "cell_type": "code",
   "execution_count": 43,
   "metadata": {},
   "outputs": [],
   "source": [
    "import pandas as pd\n",
    "\n",
    "df = pd.read_excel(r\"C:\\Users\\52031341\\Documents\\Programming\\TestData.xlsx\", index_col=0, parse_dates=True)\n",
    "\n",
    "\n",
    "\n"
   ]
  },
  {
   "cell_type": "code",
   "execution_count": 50,
   "metadata": {},
   "outputs": [
    {
     "name": "stdout",
     "output_type": "stream",
     "text": [
      "-0.8537963244142022\n",
      "-0.7393160534256649\n",
      "-0.9133408168780388\n",
      "-5.964936655738362\n",
      "-5.219139012674578\n",
      "6339.8211\n"
     ]
    }
   ],
   "source": [
    "import pandas as pd\n",
    "\n",
    "from pandas.tseries.offsets import BDay\n",
    "\n",
    "import datetime\n",
    "\n",
    "def dailyreturn(index):\n",
    "    today = (pd.datetime.today()).date()\n",
    "    day0 = today - BDay(1)\n",
    "    day1 = today - BDay(2)\n",
    "    ret = (df[index].loc[day0])/(df[index].loc[day1])-1\n",
    "    pctret = ret *100\n",
    "    return(pctret)\n",
    "    \n",
    "\n",
    "def weeklyreturn(index):\n",
    "    today = (pd.datetime.today()).date()\n",
    "    day0 = today - BDay(1)\n",
    "    day1 = today - BDay(6)\n",
    "    ret = (df[index].loc[day0])/(df[index].loc[day1])-1\n",
    "    pctret = ret *100\n",
    "    return(pctret)\n",
    "    \n",
    "\n",
    "def monthtodate(index):\n",
    "    today = (pd.datetime.today()).date()\n",
    "    day0 = today - BDay(1)\n",
    "    month0 = day0.month\n",
    "    year0 = day0.year\n",
    "    day1 = (datetime.date(year0, month0, 1))\n",
    "    day2 = day1 - BDay(1)\n",
    "    try:\n",
    "        ret = (df[index].loc[day0])/(df[index].loc[day1])-1\n",
    "    except:\n",
    "        ret = (df[index].loc[day0])/(df[index].loc[day2])-1\n",
    "    \n",
    "    pctret = ret *100\n",
    "    return(pctret)\n",
    "    \n",
    "    \n",
    "\n",
    "\n",
    "def previous_quarter(ref):\n",
    "    if ref.month < 4:\n",
    "        return datetime.date(ref.year - 1, 12, 31)\n",
    "    elif ref.month < 7:\n",
    "        return datetime.date(ref.year, 3, 31)\n",
    "    elif ref.month < 10:\n",
    "        return datetime.date(ref.year, 6, 30)\n",
    "    return datetime.date(ref.year, 9, 30)\n",
    "\n",
    "def quartertodate(index):\n",
    "    today = (pd.datetime.today()).date()\n",
    "    day0 = today - BDay(1)\n",
    "    day1 = previous_quarter(day0)\n",
    "    day2 = day1 - BDay(1)\n",
    "    try:\n",
    "        ret = (df[index].loc[day0])/(df[index].loc[day1])-1\n",
    "    except:\n",
    "        ret = (df[index].loc[day0])/(df[index].loc[day2])-1\n",
    "    \n",
    "    pctret = ret *100\n",
    "    return(pctret)\n",
    "\n",
    "\n",
    "\n",
    "def yeartodate(index):\n",
    "    today = (pd.datetime.today()).date()\n",
    "    day0 = today - BDay(1)\n",
    "    year0 = day0.year\n",
    "    day1 = (datetime.date(year0, 1, 1))\n",
    "    day2 = day1 - BDay(1)\n",
    "    try:\n",
    "        ret = (df[index].loc[day0])/(df[index].loc[day1])-1\n",
    "    except:\n",
    "        ret = (df[index].loc[day0])/(df[index].loc[day2])-1\n",
    "    \n",
    "    pctret = ret *100\n",
    "    return(pctret)\n",
    "    \n",
    "\n",
    "def yearmax(index):\n",
    "    return df[index][-262:].max()\n",
    "    \n",
    "def yearmin(index):\n",
    "    return df[index][-262:].min()\n",
    "    \n",
    "    \n",
    "#Test\n",
    "print(dailyreturn('FTSE All Share'))\n",
    "print(weeklyreturn('FTSE All Share'))    \n",
    "print(monthtodate('FTSE All Share'))    \n",
    "print(quartertodate('FTSE All Share'))    \n",
    "print(yeartodate('FTSE All Share'))    \n",
    "print(yearmax('FTSE All Share'))\n",
    "\n",
    "\n",
    "\n",
    "    "
   ]
  },
  {
   "cell_type": "code",
   "execution_count": null,
   "metadata": {},
   "outputs": [],
   "source": []
  },
  {
   "cell_type": "code",
   "execution_count": null,
   "metadata": {},
   "outputs": [],
   "source": []
  },
  {
   "cell_type": "code",
   "execution_count": null,
   "metadata": {},
   "outputs": [],
   "source": [
    "\n"
   ]
  },
  {
   "cell_type": "code",
   "execution_count": null,
   "metadata": {},
   "outputs": [],
   "source": []
  },
  {
   "cell_type": "code",
   "execution_count": null,
   "metadata": {},
   "outputs": [],
   "source": []
  },
  {
   "cell_type": "code",
   "execution_count": null,
   "metadata": {},
   "outputs": [],
   "source": [
    "\n",
    "\n"
   ]
  },
  {
   "cell_type": "code",
   "execution_count": null,
   "metadata": {},
   "outputs": [],
   "source": [
    "\n"
   ]
  },
  {
   "cell_type": "code",
   "execution_count": null,
   "metadata": {},
   "outputs": [],
   "source": [
    "\n",
    "\n"
   ]
  },
  {
   "cell_type": "code",
   "execution_count": null,
   "metadata": {},
   "outputs": [],
   "source": []
  },
  {
   "cell_type": "code",
   "execution_count": null,
   "metadata": {},
   "outputs": [],
   "source": []
  },
  {
   "cell_type": "code",
   "execution_count": null,
   "metadata": {},
   "outputs": [],
   "source": []
  },
  {
   "cell_type": "code",
   "execution_count": null,
   "metadata": {},
   "outputs": [],
   "source": []
  }
 ],
 "metadata": {
  "kernelspec": {
   "display_name": "Python 3",
   "language": "python",
   "name": "python3"
  },
  "language_info": {
   "codemirror_mode": {
    "name": "ipython",
    "version": 3
   },
   "file_extension": ".py",
   "mimetype": "text/x-python",
   "name": "python",
   "nbconvert_exporter": "python",
   "pygments_lexer": "ipython3",
   "version": "3.7.0"
  }
 },
 "nbformat": 4,
 "nbformat_minor": 2
}
