{
 "cells": [
  {
   "cell_type": "code",
   "execution_count": 16,
   "metadata": {},
   "outputs": [
    {
     "data": {
      "text/html": [
       "<div>\n",
       "<style scoped>\n",
       "    .dataframe tbody tr th:only-of-type {\n",
       "        vertical-align: middle;\n",
       "    }\n",
       "\n",
       "    .dataframe tbody tr th {\n",
       "        vertical-align: top;\n",
       "    }\n",
       "\n",
       "    .dataframe thead th {\n",
       "        text-align: right;\n",
       "    }\n",
       "</style>\n",
       "<table border=\"1\" class=\"dataframe\">\n",
       "  <thead>\n",
       "    <tr style=\"text-align: right;\">\n",
       "      <th></th>\n",
       "      <th>FTSE All Share</th>\n",
       "      <th>FTSE 100</th>\n",
       "    </tr>\n",
       "  </thead>\n",
       "  <tbody>\n",
       "    <tr>\n",
       "      <th>2018-11-05</th>\n",
       "      <td>5809.4099</td>\n",
       "      <td>10773.9884</td>\n",
       "    </tr>\n",
       "    <tr>\n",
       "      <th>2018-11-06</th>\n",
       "      <td>5764.9782</td>\n",
       "      <td>10678.1972</td>\n",
       "    </tr>\n",
       "    <tr>\n",
       "      <th>2018-11-07</th>\n",
       "      <td>5822.6217</td>\n",
       "      <td>10794.3721</td>\n",
       "    </tr>\n",
       "    <tr>\n",
       "      <th>2018-11-08</th>\n",
       "      <td>5848.3160</td>\n",
       "      <td>10839.1756</td>\n",
       "    </tr>\n",
       "    <tr>\n",
       "      <th>2018-11-09</th>\n",
       "      <td>5816.1178</td>\n",
       "      <td>10785.5313</td>\n",
       "    </tr>\n",
       "    <tr>\n",
       "      <th>2018-11-12</th>\n",
       "      <td>5766.4600</td>\n",
       "      <td>10706.2000</td>\n",
       "    </tr>\n",
       "  </tbody>\n",
       "</table>\n",
       "</div>"
      ],
      "text/plain": [
       "            FTSE All Share    FTSE 100\n",
       "2018-11-05       5809.4099  10773.9884\n",
       "2018-11-06       5764.9782  10678.1972\n",
       "2018-11-07       5822.6217  10794.3721\n",
       "2018-11-08       5848.3160  10839.1756\n",
       "2018-11-09       5816.1178  10785.5313\n",
       "2018-11-12       5766.4600  10706.2000"
      ]
     },
     "execution_count": 16,
     "metadata": {},
     "output_type": "execute_result"
    }
   ],
   "source": [
    "import pandas as pd\n",
    "\n",
    "df = pd.read_excel(r\"C:\\Users\\52031341\\Documents\\Programming\\TestData.xlsx\", index_col=0, parse_dates=True)\n",
    "\n",
    "df.tail(6)\n",
    "\n"
   ]
  },
  {
   "cell_type": "code",
   "execution_count": 37,
   "metadata": {},
   "outputs": [
    {
     "name": "stdout",
     "output_type": "stream",
     "text": [
      "-0.8537963244142022\n",
      "-0.7393160534256649\n",
      "-0.9133408168780388\n",
      "-5.964936655738362\n",
      "-5.219139012674578\n"
     ]
    }
   ],
   "source": [
    "import pandas as pd\n",
    "\n",
    "from pandas.tseries.offsets import BDay\n",
    "\n",
    "import datetime\n",
    "\n",
    "def dailyreturn(index):\n",
    "    today = (pd.datetime.today()).date()\n",
    "    day0 = today - BDay(1)\n",
    "    day1 = today - BDay(2)\n",
    "    ret = (df[index].loc[day0])/(df[index].loc[day1])-1\n",
    "    pctret = ret *100\n",
    "    print(pctret)\n",
    "    \n",
    "dailyreturn('FTSE All Share')\n",
    "\n",
    "def weeklyreturn(index):\n",
    "    today = (pd.datetime.today()).date()\n",
    "    day0 = today - BDay(1)\n",
    "    day1 = today - BDay(6)\n",
    "    ret = (df[index].loc[day0])/(df[index].loc[day1])-1\n",
    "    pctret = ret *100\n",
    "    print(pctret)\n",
    "    \n",
    "weeklyreturn('FTSE All Share')\n",
    "\n",
    "def monthtodate(index):\n",
    "    today = (pd.datetime.today()).date()\n",
    "    day0 = today - BDay(1)\n",
    "    month0 = day0.month\n",
    "    year0 = day0.year\n",
    "    day1 = (datetime.date(year0, month0, 1))\n",
    "    day2 = day1 - BDay(1)\n",
    "    try:\n",
    "        ret = (df[index].loc[day0])/(df[index].loc[day1])-1\n",
    "    except:\n",
    "        ret = (df[index].loc[day0])/(df[index].loc[day2])-1\n",
    "    \n",
    "    pctret = ret *100\n",
    "    print(pctret)\n",
    "    \n",
    "    \n",
    "monthtodate('FTSE All Share')\n",
    "\n",
    "def previous_quarter(ref):\n",
    "    if ref.month < 4:\n",
    "        return datetime.date(ref.year - 1, 12, 31)\n",
    "    elif ref.month < 7:\n",
    "        return datetime.date(ref.year, 3, 31)\n",
    "    elif ref.month < 10:\n",
    "        return datetime.date(ref.year, 6, 30)\n",
    "    return datetime.date(ref.year, 9, 30)\n",
    "\n",
    "def quartertodate(index):\n",
    "    today = (pd.datetime.today()).date()\n",
    "    day0 = today - BDay(1)\n",
    "    day1 = previous_quarter(day0)\n",
    "    day2 = day1 - BDay(1)\n",
    "    try:\n",
    "        ret = (df[index].loc[day0])/(df[index].loc[day1])-1\n",
    "    except:\n",
    "        ret = (df[index].loc[day0])/(df[index].loc[day2])-1\n",
    "    \n",
    "    pctret = ret *100\n",
    "    print(pctret)\n",
    "\n",
    "quartertodate('FTSE All Share')\n",
    "\n",
    "def yeartodate(index):\n",
    "    today = (pd.datetime.today()).date()\n",
    "    day0 = today - BDay(1)\n",
    "    year0 = day0.year\n",
    "    day1 = (datetime.date(year0, 1, 1))\n",
    "    day2 = day1 - BDay(1)\n",
    "    try:\n",
    "        ret = (df[index].loc[day0])/(df[index].loc[day1])-1\n",
    "    except:\n",
    "        ret = (df[index].loc[day0])/(df[index].loc[day2])-1\n",
    "    \n",
    "    pctret = ret *100\n",
    "    print(pctret)\n",
    "    \n",
    "yeartodate('FTSE All Share')\n",
    "\n",
    "    \n",
    "\n",
    "\n",
    "\n",
    "\n",
    "    "
   ]
  },
  {
   "cell_type": "code",
   "execution_count": null,
   "metadata": {},
   "outputs": [],
   "source": []
  },
  {
   "cell_type": "code",
   "execution_count": null,
   "metadata": {},
   "outputs": [],
   "source": []
  },
  {
   "cell_type": "code",
   "execution_count": null,
   "metadata": {},
   "outputs": [],
   "source": [
    "\n"
   ]
  },
  {
   "cell_type": "code",
   "execution_count": null,
   "metadata": {},
   "outputs": [],
   "source": []
  },
  {
   "cell_type": "code",
   "execution_count": null,
   "metadata": {},
   "outputs": [],
   "source": []
  },
  {
   "cell_type": "code",
   "execution_count": null,
   "metadata": {},
   "outputs": [],
   "source": [
    "\n",
    "\n"
   ]
  },
  {
   "cell_type": "code",
   "execution_count": null,
   "metadata": {},
   "outputs": [],
   "source": [
    "\n"
   ]
  },
  {
   "cell_type": "code",
   "execution_count": null,
   "metadata": {},
   "outputs": [],
   "source": [
    "\n",
    "\n"
   ]
  },
  {
   "cell_type": "code",
   "execution_count": null,
   "metadata": {},
   "outputs": [],
   "source": []
  },
  {
   "cell_type": "code",
   "execution_count": null,
   "metadata": {},
   "outputs": [],
   "source": []
  },
  {
   "cell_type": "code",
   "execution_count": null,
   "metadata": {},
   "outputs": [],
   "source": []
  },
  {
   "cell_type": "code",
   "execution_count": null,
   "metadata": {},
   "outputs": [],
   "source": []
  }
 ],
 "metadata": {
  "kernelspec": {
   "display_name": "Python 3",
   "language": "python",
   "name": "python3"
  },
  "language_info": {
   "codemirror_mode": {
    "name": "ipython",
    "version": 3
   },
   "file_extension": ".py",
   "mimetype": "text/x-python",
   "name": "python",
   "nbconvert_exporter": "python",
   "pygments_lexer": "ipython3",
   "version": "3.7.0"
  }
 },
 "nbformat": 4,
 "nbformat_minor": 2
}
